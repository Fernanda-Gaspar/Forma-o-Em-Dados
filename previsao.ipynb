{
 "cells": [
  {
   "cell_type": "code",
   "execution_count": 1,
   "metadata": {},
   "outputs": [
    {
     "name": "stdout",
     "output_type": "stream",
     "text": [
      "Requirement already satisfied: pandas in c:\\users\\usuário13\\appdata\\local\\programs\\python\\python311\\lib\\site-packages (1.5.3)\n",
      "Requirement already satisfied: python-dateutil>=2.8.1 in c:\\users\\usuário13\\appdata\\local\\programs\\python\\python311\\lib\\site-packages (from pandas) (2.8.2)\n",
      "Requirement already satisfied: pytz>=2020.1 in c:\\users\\usuário13\\appdata\\local\\programs\\python\\python311\\lib\\site-packages (from pandas) (2022.7.1)\n",
      "Requirement already satisfied: numpy>=1.21.0 in c:\\users\\usuário13\\appdata\\local\\programs\\python\\python311\\lib\\site-packages (from pandas) (1.24.2)\n",
      "Requirement already satisfied: six>=1.5 in c:\\users\\usuário13\\appdata\\local\\programs\\python\\python311\\lib\\site-packages (from python-dateutil>=2.8.1->pandas) (1.16.0)\n",
      "Note: you may need to restart the kernel to use updated packages.\n",
      "Requirement already satisfied: matplotlib in c:\\users\\usuário13\\appdata\\local\\programs\\python\\python311\\lib\\site-packages (3.6.3)\n",
      "Requirement already satisfied: contourpy>=1.0.1 in c:\\users\\usuário13\\appdata\\local\\programs\\python\\python311\\lib\\site-packages (from matplotlib) (1.0.7)\n",
      "Requirement already satisfied: cycler>=0.10 in c:\\users\\usuário13\\appdata\\local\\programs\\python\\python311\\lib\\site-packages (from matplotlib) (0.11.0)\n",
      "Requirement already satisfied: fonttools>=4.22.0 in c:\\users\\usuário13\\appdata\\local\\programs\\python\\python311\\lib\\site-packages (from matplotlib) (4.38.0)\n",
      "Requirement already satisfied: kiwisolver>=1.0.1 in c:\\users\\usuário13\\appdata\\local\\programs\\python\\python311\\lib\\site-packages (from matplotlib) (1.4.4)\n",
      "Requirement already satisfied: numpy>=1.19 in c:\\users\\usuário13\\appdata\\local\\programs\\python\\python311\\lib\\site-packages (from matplotlib) (1.24.2)\n",
      "Requirement already satisfied: packaging>=20.0 in c:\\users\\usuário13\\appdata\\local\\programs\\python\\python311\\lib\\site-packages (from matplotlib) (23.0)\n",
      "Requirement already satisfied: pillow>=6.2.0 in c:\\users\\usuário13\\appdata\\local\\programs\\python\\python311\\lib\\site-packages (from matplotlib) (9.4.0)\n",
      "Requirement already satisfied: pyparsing>=2.2.1 in c:\\users\\usuário13\\appdata\\local\\programs\\python\\python311\\lib\\site-packages (from matplotlib) (3.0.9)\n",
      "Requirement already satisfied: python-dateutil>=2.7 in c:\\users\\usuário13\\appdata\\local\\programs\\python\\python311\\lib\\site-packages (from matplotlib) (2.8.2)\n",
      "Requirement already satisfied: six>=1.5 in c:\\users\\usuário13\\appdata\\local\\programs\\python\\python311\\lib\\site-packages (from python-dateutil>=2.7->matplotlib) (1.16.0)\n",
      "Note: you may need to restart the kernel to use updated packages.\n",
      "Requirement already satisfied: numpy in c:\\users\\usuário13\\appdata\\local\\programs\\python\\python311\\lib\\site-packages (1.24.2)\n",
      "Note: you may need to restart the kernel to use updated packages.\n",
      "Requirement already satisfied: seaborn in c:\\users\\usuário13\\appdata\\local\\programs\\python\\python311\\lib\\site-packages (0.12.2)\n",
      "Requirement already satisfied: numpy!=1.24.0,>=1.17 in c:\\users\\usuário13\\appdata\\local\\programs\\python\\python311\\lib\\site-packages (from seaborn) (1.24.2)\n",
      "Requirement already satisfied: pandas>=0.25 in c:\\users\\usuário13\\appdata\\local\\programs\\python\\python311\\lib\\site-packages (from seaborn) (1.5.3)\n",
      "Requirement already satisfied: matplotlib!=3.6.1,>=3.1 in c:\\users\\usuário13\\appdata\\local\\programs\\python\\python311\\lib\\site-packages (from seaborn) (3.6.3)\n",
      "Requirement already satisfied: contourpy>=1.0.1 in c:\\users\\usuário13\\appdata\\local\\programs\\python\\python311\\lib\\site-packages (from matplotlib!=3.6.1,>=3.1->seaborn) (1.0.7)\n",
      "Requirement already satisfied: cycler>=0.10 in c:\\users\\usuário13\\appdata\\local\\programs\\python\\python311\\lib\\site-packages (from matplotlib!=3.6.1,>=3.1->seaborn) (0.11.0)\n",
      "Requirement already satisfied: fonttools>=4.22.0 in c:\\users\\usuário13\\appdata\\local\\programs\\python\\python311\\lib\\site-packages (from matplotlib!=3.6.1,>=3.1->seaborn) (4.38.0)\n",
      "Requirement already satisfied: kiwisolver>=1.0.1 in c:\\users\\usuário13\\appdata\\local\\programs\\python\\python311\\lib\\site-packages (from matplotlib!=3.6.1,>=3.1->seaborn) (1.4.4)\n",
      "Requirement already satisfied: packaging>=20.0 in c:\\users\\usuário13\\appdata\\local\\programs\\python\\python311\\lib\\site-packages (from matplotlib!=3.6.1,>=3.1->seaborn) (23.0)\n",
      "Requirement already satisfied: pillow>=6.2.0 in c:\\users\\usuário13\\appdata\\local\\programs\\python\\python311\\lib\\site-packages (from matplotlib!=3.6.1,>=3.1->seaborn) (9.4.0)\n",
      "Requirement already satisfied: pyparsing>=2.2.1 in c:\\users\\usuário13\\appdata\\local\\programs\\python\\python311\\lib\\site-packages (from matplotlib!=3.6.1,>=3.1->seaborn) (3.0.9)\n",
      "Requirement already satisfied: python-dateutil>=2.7 in c:\\users\\usuário13\\appdata\\local\\programs\\python\\python311\\lib\\site-packages (from matplotlib!=3.6.1,>=3.1->seaborn) (2.8.2)\n",
      "Requirement already satisfied: pytz>=2020.1 in c:\\users\\usuário13\\appdata\\local\\programs\\python\\python311\\lib\\site-packages (from pandas>=0.25->seaborn) (2022.7.1)\n",
      "Requirement already satisfied: six>=1.5 in c:\\users\\usuário13\\appdata\\local\\programs\\python\\python311\\lib\\site-packages (from python-dateutil>=2.7->matplotlib!=3.6.1,>=3.1->seaborn) (1.16.0)\n",
      "Note: you may need to restart the kernel to use updated packages.\n",
      "Requirement already satisfied: plotly in c:\\users\\usuário13\\appdata\\local\\programs\\python\\python311\\lib\\site-packages (5.13.0)\n",
      "Requirement already satisfied: tenacity>=6.2.0 in c:\\users\\usuário13\\appdata\\local\\programs\\python\\python311\\lib\\site-packages (from plotly) (8.2.1)\n",
      "Note: you may need to restart the kernel to use updated packages.\n",
      "Requirement already satisfied: sklearn in c:\\users\\usuário13\\appdata\\local\\programs\\python\\python311\\lib\\site-packages (0.0.post1)\n",
      "Note: you may need to restart the kernel to use updated packages.\n",
      "Note: you may need to restart the kernel to use updated packages.\n"
     ]
    },
    {
     "name": "stderr",
     "output_type": "stream",
     "text": [
      "ERROR: Could not find a version that satisfies the requirement xboost (from versions: none)\n",
      "ERROR: No matching distribution found for xboost\n"
     ]
    },
    {
     "name": "stdout",
     "output_type": "stream",
     "text": [
      "Requirement already satisfied: sklearn in c:\\users\\usuário13\\appdata\\local\\programs\\python\\python311\\lib\\site-packages (0.0.post1)\n",
      "Note: you may need to restart the kernel to use updated packages.\n"
     ]
    }
   ],
   "source": [
    "%pip install pandas\n",
    "%pip install matplotlib\n",
    "%pip install numpy\n",
    "%pip install seaborn\n",
    "%pip install plotly\n",
    "%pip install sklearn\n",
    "%pip install xboost\n",
    "%pip install sklearn"
   ]
  },
  {
   "cell_type": "code",
   "execution_count": 2,
   "metadata": {},
   "outputs": [
    {
     "ename": "ModuleNotFoundError",
     "evalue": "No module named 'sklearn'",
     "output_type": "error",
     "traceback": [
      "\u001b[1;31m---------------------------------------------------------------------------\u001b[0m",
      "\u001b[1;31mModuleNotFoundError\u001b[0m                       Traceback (most recent call last)",
      "Cell \u001b[1;32mIn[2], line 10\u001b[0m\n\u001b[0;32m      8\u001b[0m \u001b[38;5;28;01mimport\u001b[39;00m \u001b[38;5;21;01mplotly\u001b[39;00m\u001b[38;5;21;01m.\u001b[39;00m\u001b[38;5;21;01mexpress\u001b[39;00m \u001b[38;5;28;01mas\u001b[39;00m \u001b[38;5;21;01mpx\u001b[39;00m\n\u001b[0;32m      9\u001b[0m sns\u001b[38;5;241m.\u001b[39mset_style(\u001b[38;5;124m'\u001b[39m\u001b[38;5;124mwhite\u001b[39m\u001b[38;5;124m'\u001b[39m, { \u001b[38;5;124m'\u001b[39m\u001b[38;5;124maxes.spines.right\u001b[39m\u001b[38;5;124m'\u001b[39m: \u001b[38;5;28;01mFalse\u001b[39;00m, \u001b[38;5;124m'\u001b[39m\u001b[38;5;124maxes.spines.top\u001b[39m\u001b[38;5;124m'\u001b[39m: \u001b[38;5;28;01mFalse\u001b[39;00m})\n\u001b[1;32m---> 10\u001b[0m \u001b[38;5;28;01mfrom\u001b[39;00m \u001b[38;5;21;01msklearn\u001b[39;00m\u001b[38;5;21;01m.\u001b[39;00m\u001b[38;5;21;01mmetrics\u001b[39;00m \u001b[38;5;28;01mimport\u001b[39;00m classification_report, confusion_matrix, precision_recall_fscore_support \u001b[38;5;28;01mas\u001b[39;00m score, roc_curve\n\u001b[0;32m     11\u001b[0m \u001b[38;5;28;01mfrom\u001b[39;00m \u001b[38;5;21;01msklearn\u001b[39;00m\u001b[38;5;21;01m.\u001b[39;00m\u001b[38;5;21;01mmodel_selection\u001b[39;00m \u001b[38;5;28;01mimport\u001b[39;00m cross_val_score, train_test_split, cross_validate\n\u001b[0;32m     12\u001b[0m \u001b[38;5;28;01mfrom\u001b[39;00m \u001b[38;5;21;01msklearn\u001b[39;00m\u001b[38;5;21;01m.\u001b[39;00m\u001b[38;5;21;01mutils\u001b[39;00m \u001b[38;5;28;01mimport\u001b[39;00m compute_sample_weight\n",
      "\u001b[1;31mModuleNotFoundError\u001b[0m: No module named 'sklearn'"
     ]
    }
   ],
   "source": [
    "#Previsão de máquinas que irão falhar usando o método de regressão\n",
    "\n",
    "#Importando bibliotecas\n",
    "import pandas as pd \n",
    "import matplotlib.pyplot as plt \n",
    "import numpy as np\n",
    "import seaborn as sns\n",
    "import plotly.express as px\n",
    "sns.set_style('white', { 'axes.spines.right': False, 'axes.spines.top': False})\n",
    "from sklearn.metrics import classification_report, confusion_matrix, precision_recall_fscore_support as score, roc_curve\n",
    "from sklearn.model_selection import cross_val_score, train_test_split, cross_validate\n",
    "from sklearn.utils import compute_sample_weight\n",
    "from xgboost import XGBClassifier\n",
    "import xgboost as xgb\n",
    "import xgboost\n",
    "\n",
    "# Carregando os dados de treino\n",
    "path = '/home/fernanda/Downloads/Desafio Ciências de Dados/'\n",
    "df = pd.read_csv(path + \"desafio_manutencao_preditiva_treino.csv\") \n",
    "\n",
    "# Definindo o alvo\n",
    "target_name='failure_type'\n",
    "\n",
    "# Print do resumo dos dados de treino(10 primeiros)\n",
    "print(df.shape[0])\n",
    "df.head(10)"
   ]
  },
  {
   "cell_type": "markdown",
   "metadata": {},
   "source": [
    "**# Limpando os dados**"
   ]
  },
  {
   "cell_type": "code",
   "execution_count": null,
   "metadata": {
    "scrolled": true
   },
   "outputs": [],
   "source": [
    "# Procura por valores faltantes\n",
    "def mss_values(df):\n",
    "    null_df = pd.DataFrame(df.isna().sum(), columns=['null_values']).sort_values(['null_values'], ascending=False)\n",
    "    fig = plt.subplots(figsize=(16, 6))\n",
    "    ax = sns.barplot(data=null_df, x='null_values', y=null_df.index, color='royalblue')\n",
    "    pct_values = [' {:g}'.format(elm) + ' ({:.1%})'.format(elm/len(df)) for elm in list(null_df['null_values'])]\n",
    "    ax.set_title('Visão geral dos valores ausentes')\n",
    "    ax.bar_label(container=ax.containers[0], labels=pct_values, size=12)\n",
    "\n",
    "if df.isna().sum().sum() > 0:\n",
    "    mss_values(df)\n",
    "else:\n",
    "    print('sem valores ausentes')\n",
    "\n",
    "# Descarte de todas as colunas com mais de 5% de valores ausentes\n",
    "for col_name in df.columns:\n",
    "    if df[col_name].isna().sum()/df.shape[0] > 0.05:\n",
    "        df.drop(columns=[col_name], inplace=True) \n",
    "\n",
    "df.columns"
   ]
  },
  {
   "cell_type": "code",
   "execution_count": null,
   "metadata": {},
   "outputs": [],
   "source": [
    "# Retirando a coluna 'product_id' e 'id'\n",
    "df_base = df.drop(columns=['product_id', 'udi'])\n",
    "\n",
    "# Ajustando o nome das colunas\n",
    "df_base.rename(columns={'Air temperature [K]': 'air_temperature', \n",
    "                        'Process temperature [K]': 'process_temperature', \n",
    "                        'Rotational speed [rpm]':'rotational_speed', \n",
    "                        'Torque [Nm]': 'torque', \n",
    "                        'Tool wear [min]': 'tool_wear'}, inplace=True)\n",
    "df_base.head()"
   ]
  },
  {
   "cell_type": "markdown",
   "metadata": {},
   "source": [
    " **# Explorando os dados**"
   ]
  },
  {
   "cell_type": "code",
   "execution_count": null,
   "metadata": {},
   "outputs": [],
   "source": [
    "# Exibição da distribuição de classe da variável de destino\n",
    "\n",
    "px.histogram(df_base, y=\"failure_type\", color=\"failure_type\") "
   ]
  },
  {
   "cell_type": "code",
   "execution_count": null,
   "metadata": {},
   "outputs": [],
   "source": [
    "# Mapa de dispersão (pairplot) nos tipos de falhas\n",
    "sns.pairplot(df_base, height=2.5, hue='failure_type')"
   ]
  },
  {
   "cell_type": "code",
   "execution_count": null,
   "metadata": {},
   "outputs": [],
   "source": [
    "# Mapa de correlação\n",
    "plt.figure(figsize=(6,4))\n",
    "sns.heatmap(df_base.corr(), cbar=True, fmt='.1f', vmax=0.8, annot=True, cmap='Blues')"
   ]
  },
  {
   "cell_type": "code",
   "execution_count": null,
   "metadata": {},
   "outputs": [],
   "source": [
    "# Criação do histogramas para explicitar os tipos de falhas\n",
    "def histogram(column_name):\n",
    "    plt.figure(figsize=(16,6))\n",
    "    return px.box(data_frame=df_base, y=column_name, color='failure_type', points=\"all\", width=1200)\n",
    "\n",
    "histogram('air_temperature_k')"
   ]
  },
  {
   "cell_type": "code",
   "execution_count": null,
   "metadata": {},
   "outputs": [],
   "source": [
    "histogram('process_temperature_k')"
   ]
  },
  {
   "cell_type": "code",
   "execution_count": null,
   "metadata": {},
   "outputs": [],
   "source": [
    "histogram('rotational_speed_rpm')"
   ]
  },
  {
   "cell_type": "code",
   "execution_count": null,
   "metadata": {},
   "outputs": [],
   "source": [
    "histogram('torque_nm')"
   ]
  },
  {
   "cell_type": "code",
   "execution_count": null,
   "metadata": {},
   "outputs": [],
   "source": [
    "histogram('tool_wear_min')"
   ]
  },
  {
   "cell_type": "markdown",
   "metadata": {},
   "source": [
    "**# Preparação dos dados**"
   ]
  },
  {
   "cell_type": "code",
   "execution_count": null,
   "metadata": {
    "scrolled": true
   },
   "outputs": [],
   "source": [
    "def preparacao_dados(df_base, target_name):\n",
    "    df = df_base.dropna()\n",
    "\n",
    "    df['target_name_encoded'] = df[target_name].replace({'No Failure': 0, 'Power Failure': 1, 'Tool Wear Failure': 2, 'Overstrain Failure': 3, 'Random Failures': 4, 'Heat Dissipation Failure': 5})\n",
    "    df['type'].replace({'L': 0, 'M': 1, 'H': 2}, inplace=True)\n",
    "    X = df.drop(columns=[target_name, 'target_name_encoded'])\n",
    "    y = df['target_name_encoded'] #Prediction label\n",
    "\n",
    "    # Dividindo os dados em conjuntos de dados x_train e y_train\n",
    "    X_train, X_test, y_train, y_test = train_test_split(X, y, train_size=0.7, random_state=0)\n",
    "\n",
    "    # Printando 'O resultado é:' (rows, training_sequence, features) (prediction value, )\n",
    "    print('train: ', X_train.shape, y_train.shape)\n",
    "    print('test: ', X_test.shape, y_test.shape)\n",
    "    return X, y, X_train, X_test, y_train, y_test\n",
    "\n",
    "# Removendo o alvo (Falilure Type) dos dados de treino e tornando ele nos dados de teste\n",
    "X, y, X_train, X_test, y_train, y_test = preparacao_dados(df_base, target_name)"
   ]
  },
  {
   "cell_type": "markdown",
   "metadata": {},
   "source": [
    "**# Treinando o modelo**"
   ]
  },
  {
   "cell_type": "code",
   "execution_count": null,
   "metadata": {},
   "outputs": [],
   "source": [
    "weight_train = compute_sample_weight('balanced', y_train)\n",
    "weight_test = compute_sample_weight('balanced', y_test)\n",
    "\n",
    "xgb_model = xgboost.XGBClassifier(eta=0.1, max_depth=8, \n",
    "                                    colsample_bytree=0.5, \n",
    "                                    booster='gbtree', \n",
    "                                    sampling_method='gradient_based', \n",
    "                                    eval_metric='aucpr', \n",
    "                                    objective='multi:softmax', \n",
    "                                    tree_method='hist', \n",
    "                                    num_class=6)\n",
    "                                    \n",
    "# Ajustando o modelo aos dados\n",
    "xgb_model.fit(X_train, y_train.ravel(), sample_weight=weight_train)"
   ]
  },
  {
   "cell_type": "markdown",
   "metadata": {},
   "source": [
    "# **Avaliação do Modelo**"
   ]
  },
  {
   "cell_type": "code",
   "execution_count": null,
   "metadata": {},
   "outputs": [],
   "source": [
    "# Contagem do modelo com o conjunto de dados teste\n",
    "score = xgb_model.score(X_test, y_test.ravel(), sample_weight=weight_test)\n",
    "\n",
    "# Prevendo o conjunto de dados de teste\n",
    "y_pred = xgb_model.predict(X_test)\n",
    "\n",
    "# Print da classificação e acurácia\n",
    "results_log = classification_report(y_test, y_pred)\n",
    "print(results_log)"
   ]
  },
  {
   "cell_type": "code",
   "execution_count": null,
   "metadata": {},
   "outputs": [],
   "source": [
    "# validação cruzada\n",
    "val_cruzada  = cross_validate(xgb_model, X_train, y_train, cv=10, scoring=\"f1_weighted\", fit_params={ \"sample_weight\" :weight_train})\n",
    "val_cruzada_df = pd.DataFrame(val_cruzada)\n",
    "px.bar(x=val_cruzada_df.index, y=val_cruzada_df.test_score, width=800)"
   ]
  },
  {
   "cell_type": "code",
   "execution_count": null,
   "metadata": {},
   "outputs": [],
   "source": [
    "# Criando as previsões no conjunto de dados de teste\n",
    "y_pred = xgb_model.predict(X_test)\n",
    "\n",
    "# Print da matriz de multiclasse\n",
    "matriz = confusion_matrix(y_test, y_pred)\n",
    "df_matriz = pd.DataFrame(matriz, columns=np.unique(y_test), index=np.unique(y_test))\n",
    "df_matriz.index.name = 'Actual'\n",
    "df_matriz.columns.name = 'Predicted'\n",
    "plt.figure(figsize = (8, 5))\n",
    "sns.set(font_scale=1.1) #for label size\n",
    "sns.heatmap(df_matriz, cbar=True, cmap= \"inferno\", annot=True, fmt='.0f')"
   ]
  },
  {
   "cell_type": "code",
   "execution_count": null,
   "metadata": {},
   "outputs": [],
   "source": [
    "df_matriz.to_csv('previsao.csv')"
   ]
  },
  {
   "cell_type": "code",
   "execution_count": null,
   "metadata": {},
   "outputs": [],
   "source": []
  }
 ],
 "metadata": {
  "kernelspec": {
   "display_name": "Python 3 (ipykernel)",
   "language": "python",
   "name": "python3"
  },
  "language_info": {
   "codemirror_mode": {
    "name": "ipython",
    "version": 3
   },
   "file_extension": ".py",
   "mimetype": "text/x-python",
   "name": "python",
   "nbconvert_exporter": "python",
   "pygments_lexer": "ipython3",
   "version": "3.11.2"
  },
  "vscode": {
   "interpreter": {
    "hash": "e7370f93d1d0cde622a1f8e1c04877d8463912d04d973331ad4851f04de6915a"
   }
  }
 },
 "nbformat": 4,
 "nbformat_minor": 2
}
